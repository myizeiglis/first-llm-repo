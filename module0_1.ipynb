{
 "cells": [
  {
   "cell_type": "markdown",
   "id": "37ee89fb-bed5-46fc-b9a2-d23c3eafa67d",
   "metadata": {},
   "source": [
    "<p style=\"font-family: 'Roboto', sans-serif; font-size: 18px;\">Aşağıdaki yazı, şu anda Jupyter Notebook üzerinde çalıştığı Python kernel'ının Python'ın yüklü olan hangi versiyonu olduğu gösteriyor.</p>"
   ]
  },
  {
   "cell_type": "code",
   "execution_count": 1,
   "id": "e7db107e-a08b-4581-899f-6ce68d7fc474",
   "metadata": {},
   "outputs": [
    {
     "name": "stdout",
     "output_type": "stream",
     "text": [
      "3.12.2\n"
     ]
    }
   ],
   "source": [
    "import platform\n",
    "print(platform.python_version())"
   ]
  },
  {
   "cell_type": "markdown",
   "id": "25435f7f-35e8-43ab-a4f0-e77af661c4a1",
   "metadata": {},
   "source": [
    "<p style=\"font-family: 'Roboto', sans-serif; font-size: 18px;\">Burada yüklü olan kütüphaneler kurs boyunca gerekli olanlar olacak.</p>"
   ]
  },
  {
   "cell_type": "code",
   "execution_count": 4,
   "id": "1fce2b7b-6e45-4f82-8d30-3b3c8db4d366",
   "metadata": {},
   "outputs": [],
   "source": [
    "# pip install tiktoken transformers datasets matplotlib"
   ]
  },
  {
   "cell_type": "code",
   "execution_count": 1,
   "id": "3fc75475-fed1-499a-873d-a75dcdfa1775",
   "metadata": {},
   "outputs": [],
   "source": [
    "import tiktoken, transformers, datasets, matplotlib"
   ]
  },
  {
   "cell_type": "code",
   "execution_count": 17,
   "id": "b97e6072-1dec-484f-8354-f3a81e999b7c",
   "metadata": {},
   "outputs": [
    {
     "name": "stdout",
     "output_type": "stream",
     "text": [
      "[0, 13, 1, 13, 2, 13, 3, 4, 13, 3, 8, 13, 9, 13, 10, 13, 11, 4, 13, 6, 13, 11, 4, 13, 12]\n"
     ]
    }
   ],
   "source": [
    "from tokenizer import Tokenizer\n",
    "tokenizer = Tokenizer(\"tokenizer.json\")\n",
    "tokens = tokenizer.encode(text = \"Merhaba benim adım Erdem. Erdemler bugün bize gelecek. Ahmet gelecek. B\")\n",
    "print(tokens)"
   ]
  },
  {
   "cell_type": "code",
   "execution_count": 18,
   "id": "44b07f18",
   "metadata": {},
   "outputs": [
    {
     "name": "stdout",
     "output_type": "stream",
     "text": [
      "Merhaba benim adım Erdem. Erdemler bugün bize gelecek. Ahmet gelecek. <unk>\n"
     ]
    }
   ],
   "source": [
    "print(tokenizer.decode(token_ids = tokens))"
   ]
  },
  {
   "cell_type": "code",
   "execution_count": 21,
   "id": "99a01eee",
   "metadata": {},
   "outputs": [
    {
     "name": "stdout",
     "output_type": "stream",
     "text": [
      "Merhaba benim adım Erdem. Benim adım da Ahmet. Erdemler bugün bize gelecek.\n"
     ]
    }
   ],
   "source": [
    "with open(\"text\", \"r\", encoding=\"utf-8\") as f:\n",
    "    text = f.read()\n",
    "\n",
    "text_tokens = tokenizer.encode(text)\n",
    "text = tokenizer.decode(text_tokens)\n",
    "print(text)"
   ]
  }
 ],
 "metadata": {
  "kernelspec": {
   "display_name": "Python 3",
   "language": "python",
   "name": "python3"
  },
  "language_info": {
   "codemirror_mode": {
    "name": "ipython",
    "version": 3
   },
   "file_extension": ".py",
   "mimetype": "text/x-python",
   "name": "python",
   "nbconvert_exporter": "python",
   "pygments_lexer": "ipython3",
   "version": "3.12.2"
  }
 },
 "nbformat": 4,
 "nbformat_minor": 5
}
